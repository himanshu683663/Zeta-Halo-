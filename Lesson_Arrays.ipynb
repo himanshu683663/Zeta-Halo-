{
  "nbformat": 4,
  "nbformat_minor": 0,
  "metadata": {
    "colab": {
      "name": "Lesson Arrays ",
      "provenance": [],
      "collapsed_sections": [],
      "authorship_tag": "ABX9TyP4bpTvhSoeygPj2+5ZZuVA",
      "include_colab_link": true
    },
    "kernelspec": {
      "display_name": "Python 3",
      "name": "python3"
    },
    "language_info": {
      "name": "python"
    }
  },
  "cells": [
    {
      "cell_type": "markdown",
      "metadata": {
        "id": "view-in-github",
        "colab_type": "text"
      },
      "source": [
        "<a href=\"https://colab.research.google.com/github/himanshu683663/Zeta-Halo-/blob/main/Lesson_Arrays.ipynb\" target=\"_parent\"><img src=\"https://colab.research.google.com/assets/colab-badge.svg\" alt=\"Open In Colab\"/></a>"
      ]
    },
    {
      "cell_type": "markdown",
      "metadata": {
        "id": "bhqXFe9zViHs"
      },
      "source": [
        "** Array ** \n",
        "\n",
        "1.   List item\n",
        "\n",
        "\n",
        "Basically  in array we can have all the value of same type be it list or tuple or string .  ex if you say it is int array  , float array all the value of same type ."
      ]
    },
    {
      "cell_type": "code",
      "source": [
        "from google.colab import drive\n",
        "drive.mount('/content/drive')"
      ],
      "metadata": {
        "id": "wseCEk95_LEk"
      },
      "execution_count": null,
      "outputs": []
    },
    {
      "cell_type": "markdown",
      "metadata": {
        "id": "UflocskIWhW-"
      },
      "source": [
        " First of all we need to import module that is called array .  ****For further assistance pl check excel sheet attached with the given drive folder ."
      ]
    },
    {
      "cell_type": "code",
      "metadata": {
        "id": "3GdRAJRMUTy8"
      },
      "source": [
        "#  First of all we need to import array \n",
        "from array import *\n"
      ],
      "execution_count": null,
      "outputs": []
    },
    {
      "cell_type": "code",
      "metadata": {
        "colab": {
          "base_uri": "https://localhost:8080/"
        },
        "id": "6EGWREU-WeF4",
        "outputId": "2dce50cb-2308-4a8b-887d-d97ffe354eca"
      },
      "source": [
        "# \"i\" value is in excel sheet  and for [ ] this is used for in array \n",
        "vals = array('i',[5,4,6,9,10])\n",
        "print(vals)"
      ],
      "execution_count": null,
      "outputs": [
        {
          "output_type": "stream",
          "name": "stdout",
          "text": [
            "array('i', [5, 4, 6, 9, 10])\n"
          ]
        }
      ]
    },
    {
      "cell_type": "code",
      "metadata": {
        "colab": {
          "base_uri": "https://localhost:8080/",
          "height": 201
        },
        "id": "Gymmt6svWeit",
        "outputId": "2900ed3f-619b-4775-a460-ceb75ad8321f"
      },
      "source": [
        "# Basically we can't have  float number in array we can have all the value of same type .\n",
        "vals = array('i',[5,4,6.2,9,10])\n",
        "print(vals)"
      ],
      "execution_count": null,
      "outputs": [
        {
          "output_type": "error",
          "ename": "TypeError",
          "evalue": "ignored",
          "traceback": [
            "\u001b[0;31m---------------------------------------------------------------------------\u001b[0m",
            "\u001b[0;31mTypeError\u001b[0m                                 Traceback (most recent call last)",
            "\u001b[0;32m<ipython-input-9-4eafbba69edd>\u001b[0m in \u001b[0;36m<module>\u001b[0;34m()\u001b[0m\n\u001b[1;32m      1\u001b[0m \u001b[0;31m# Basically we can't have  float number in array we can have all the value of same type .\u001b[0m\u001b[0;34m\u001b[0m\u001b[0;34m\u001b[0m\u001b[0;34m\u001b[0m\u001b[0m\n\u001b[0;32m----> 2\u001b[0;31m \u001b[0mvals\u001b[0m \u001b[0;34m=\u001b[0m \u001b[0marray\u001b[0m\u001b[0;34m(\u001b[0m\u001b[0;34m'i'\u001b[0m\u001b[0;34m,\u001b[0m\u001b[0;34m[\u001b[0m\u001b[0;36m5\u001b[0m\u001b[0;34m,\u001b[0m\u001b[0;36m4\u001b[0m\u001b[0;34m,\u001b[0m\u001b[0;36m6.2\u001b[0m\u001b[0;34m,\u001b[0m\u001b[0;36m9\u001b[0m\u001b[0;34m,\u001b[0m\u001b[0;36m10\u001b[0m\u001b[0;34m]\u001b[0m\u001b[0;34m)\u001b[0m\u001b[0;34m\u001b[0m\u001b[0;34m\u001b[0m\u001b[0m\n\u001b[0m\u001b[1;32m      3\u001b[0m \u001b[0mprint\u001b[0m\u001b[0;34m(\u001b[0m\u001b[0mvals\u001b[0m\u001b[0;34m)\u001b[0m\u001b[0;34m\u001b[0m\u001b[0;34m\u001b[0m\u001b[0m\n",
            "\u001b[0;31mTypeError\u001b[0m: integer argument expected, got float"
          ]
        }
      ]
    },
    {
      "cell_type": "code",
      "metadata": {
        "id": "1TCoavCTe0L9",
        "colab": {
          "base_uri": "https://localhost:8080/"
        },
        "outputId": "2f6336c0-ddcd-4162-d76b-9db5c218061d"
      },
      "source": [
        "# Basically in 'i' character we have signed integer means we can have negative no \n",
        "vals = array('i',[5,4,-4,9,10])\n",
        "print(vals)"
      ],
      "execution_count": null,
      "outputs": [
        {
          "output_type": "stream",
          "name": "stdout",
          "text": [
            "array('i', [5, 4, -4, 9, 10])\n"
          ]
        }
      ]
    },
    {
      "cell_type": "code",
      "metadata": {
        "colab": {
          "base_uri": "https://localhost:8080/",
          "height": 201
        },
        "id": "QqkX4Rxmfju5",
        "outputId": "9070c776-3f83-4993-894f-604f8ef991d1"
      },
      "source": [
        "# In Capital 'I' we can't have negative values \n",
        "vals = array('I',[5,4,-4,9,10])\n",
        "print(vals)"
      ],
      "execution_count": null,
      "outputs": [
        {
          "output_type": "error",
          "ename": "OverflowError",
          "evalue": "ignored",
          "traceback": [
            "\u001b[0;31m---------------------------------------------------------------------------\u001b[0m",
            "\u001b[0;31mOverflowError\u001b[0m                             Traceback (most recent call last)",
            "\u001b[0;32m<ipython-input-12-35c132535f3c>\u001b[0m in \u001b[0;36m<module>\u001b[0;34m()\u001b[0m\n\u001b[1;32m      1\u001b[0m \u001b[0;31m# In Capital 'I' we can't have negative values\u001b[0m\u001b[0;34m\u001b[0m\u001b[0;34m\u001b[0m\u001b[0;34m\u001b[0m\u001b[0m\n\u001b[0;32m----> 2\u001b[0;31m \u001b[0mvals\u001b[0m \u001b[0;34m=\u001b[0m \u001b[0marray\u001b[0m\u001b[0;34m(\u001b[0m\u001b[0;34m'I'\u001b[0m\u001b[0;34m,\u001b[0m\u001b[0;34m[\u001b[0m\u001b[0;36m5\u001b[0m\u001b[0;34m,\u001b[0m\u001b[0;36m4\u001b[0m\u001b[0;34m,\u001b[0m\u001b[0;34m-\u001b[0m\u001b[0;36m4\u001b[0m\u001b[0;34m,\u001b[0m\u001b[0;36m9\u001b[0m\u001b[0;34m,\u001b[0m\u001b[0;36m10\u001b[0m\u001b[0;34m]\u001b[0m\u001b[0;34m)\u001b[0m\u001b[0;34m\u001b[0m\u001b[0;34m\u001b[0m\u001b[0m\n\u001b[0m\u001b[1;32m      3\u001b[0m \u001b[0mprint\u001b[0m\u001b[0;34m(\u001b[0m\u001b[0mvals\u001b[0m\u001b[0;34m)\u001b[0m\u001b[0;34m\u001b[0m\u001b[0;34m\u001b[0m\u001b[0m\n",
            "\u001b[0;31mOverflowError\u001b[0m: can't convert negative value to unsigned int"
          ]
        }
      ]
    },
    {
      "cell_type": "markdown",
      "metadata": {
        "id": "mc81aO49ibiF"
      },
      "source": [
        "## <u> various Methods <u> ##"
      ]
    },
    {
      "cell_type": "code",
      "metadata": {
        "colab": {
          "base_uri": "https://localhost:8080/"
        },
        "id": "sxWFMc1DgQ16",
        "outputId": "356dd6fa-a123-4fec-c5a6-22f83862e8ef"
      },
      "source": [
        "# We can usee various method  like this one (buffer_info)\n",
        "vals = array('i',[5,4,-4,9,10])\n",
        "print(vals.buffer_info())"
      ],
      "execution_count": null,
      "outputs": [
        {
          "output_type": "stream",
          "name": "stdout",
          "text": [
            "(140484788378256, 5)\n"
          ]
        }
      ]
    },
    {
      "cell_type": "code",
      "metadata": {
        "colab": {
          "base_uri": "https://localhost:8080/"
        },
        "id": "iIpMdN35hPT2",
        "outputId": "7d8a8c35-6075-411e-89f9-457b04090249"
      },
      "source": [
        "#  We have method of type_code in this variable  to yield type of element ex \n",
        "print(vals.typecode) \n"
      ],
      "execution_count": null,
      "outputs": [
        {
          "output_type": "stream",
          "name": "stdout",
          "text": [
            "i\n"
          ]
        }
      ]
    },
    {
      "cell_type": "code",
      "metadata": {
        "colab": {
          "base_uri": "https://localhost:8080/"
        },
        "id": "-YwQFnVriRN0",
        "outputId": "53f26c0f-5149-4237-e8ec-b67a29e84e5e"
      },
      "source": [
        "# We have append method to change or add any element .\n",
        "print(vals.append(8,))\n",
        "print(vals)"
      ],
      "execution_count": null,
      "outputs": [
        {
          "output_type": "stream",
          "name": "stdout",
          "text": [
            "None\n",
            "array('i', [5, 4, -4, 9, 10, 8])\n"
          ]
        }
      ]
    },
    {
      "cell_type": "code",
      "metadata": {
        "colab": {
          "base_uri": "https://localhost:8080/"
        },
        "id": "usW1Ug7Aiy86",
        "outputId": "4cfe3414-45a7-423b-9829-5cf8b774e690"
      },
      "source": [
        "# We have remove method to remove any  element \n",
        "print(vals.remove(10))\n",
        "print(vals)"
      ],
      "execution_count": null,
      "outputs": [
        {
          "output_type": "stream",
          "name": "stdout",
          "text": [
            "None\n",
            "array('i', [5, 4, -4, 9, 8])\n"
          ]
        }
      ]
    },
    {
      "cell_type": "code",
      "metadata": {
        "colab": {
          "base_uri": "https://localhost:8080/"
        },
        "id": "L8Rq3apalbUH",
        "outputId": "a7575552-acec-40aa-b4dc-47a8d90d89d6"
      },
      "source": [
        "# We have reverse method to reverse the variable type \n",
        "print(vals.reverse())\n",
        "print(vals)"
      ],
      "execution_count": null,
      "outputs": [
        {
          "output_type": "stream",
          "name": "stdout",
          "text": [
            "None\n",
            "array('i', [8, 9, -4, 4, 5])\n"
          ]
        }
      ]
    },
    {
      "cell_type": "code",
      "metadata": {
        "colab": {
          "base_uri": "https://localhost:8080/"
        },
        "id": "6gHIeAckmA5T",
        "outputId": "6ab92eac-da8c-407b-8ff7-d20fdaf6fa28"
      },
      "source": [
        "# we can have first element like how we find index  obviously it will show after reverse method \n",
        "print(vals[0])\n"
      ],
      "execution_count": null,
      "outputs": [
        {
          "output_type": "stream",
          "name": "stdout",
          "text": [
            "8\n"
          ]
        }
      ]
    },
    {
      "cell_type": "code",
      "metadata": {
        "colab": {
          "base_uri": "https://localhost:8080/"
        },
        "id": "IB0dkIQwJQRx",
        "outputId": "30efd061-e16c-4e2e-f183-01223b805430"
      },
      "source": [
        "for i in range(5) :\n",
        "  print(vals[i])"
      ],
      "execution_count": null,
      "outputs": [
        {
          "output_type": "stream",
          "name": "stdout",
          "text": [
            "a\n",
            "i\n",
            "e\n",
            "o\n",
            "u\n"
          ]
        }
      ]
    },
    {
      "cell_type": "code",
      "metadata": {
        "colab": {
          "base_uri": "https://localhost:8080/"
        },
        "id": "k0gXJeXQnYrL",
        "outputId": "4d4416a9-a21d-441a-d7d6-8bec9a0398e2"
      },
      "source": [
        "# We can use for loop  for finding out iterable value one by one \n",
        "for i in range(len(vals)) :\n",
        "  print(vals[i])\n"
      ],
      "execution_count": null,
      "outputs": [
        {
          "output_type": "stream",
          "name": "stdout",
          "text": [
            "8\n",
            "9\n",
            "-4\n",
            "4\n",
            "5\n"
          ]
        }
      ]
    },
    {
      "cell_type": "code",
      "metadata": {
        "id": "vmIaYumZnuQu",
        "colab": {
          "base_uri": "https://localhost:8080/"
        },
        "outputId": "cdf0b6b5-8829-43a5-fad0-e6bfa62e4b15"
      },
      "source": [
        "# We can use unicode character  especially in all alphabet \n",
        "vals = array('u',['a','i','e','o','u'])\n",
        "print(vals)"
      ],
      "execution_count": null,
      "outputs": [
        {
          "output_type": "stream",
          "name": "stdout",
          "text": [
            "array('u', 'aieou')\n"
          ]
        }
      ]
    },
    {
      "cell_type": "markdown",
      "metadata": {
        "id": "52HFoXaxzn3O"
      },
      "source": [
        "## We need to create new array with same values "
      ]
    },
    {
      "cell_type": "code",
      "metadata": {
        "colab": {
          "base_uri": "https://localhost:8080/"
        },
        "id": "UwE8QbnazFsu",
        "outputId": "2eeb393e-454b-44e1-dbda-42045d900cca"
      },
      "source": [
        "new_arr = array(vals.typecode, (a for a in vals ))\n",
        "print(new_arr)"
      ],
      "execution_count": null,
      "outputs": [
        {
          "output_type": "stream",
          "name": "stdout",
          "text": [
            "array('u', 'aieou')\n"
          ]
        }
      ]
    },
    {
      "cell_type": "markdown",
      "metadata": {
        "id": "GlwRxynQ38hn"
      },
      "source": [
        "## We can  verate a new array  and solved calculation like a*a using list comprehension  see the ex :"
      ]
    },
    {
      "cell_type": "code",
      "metadata": {
        "colab": {
          "base_uri": "https://localhost:8080/"
        },
        "id": "oBq8Sr5L1YBv",
        "outputId": "9bd9902e-825d-4d57-ca80-a1f01bd77786"
      },
      "source": [
        "new_int =array('i',[5,3,2,1,10])\n",
        "print(new_int)"
      ],
      "execution_count": null,
      "outputs": [
        {
          "output_type": "stream",
          "name": "stdout",
          "text": [
            "array('i', [5, 3, 2, 1, 10])\n"
          ]
        }
      ]
    },
    {
      "cell_type": "code",
      "metadata": {
        "colab": {
          "base_uri": "https://localhost:8080/"
        },
        "id": "02JS2dulLHCt",
        "outputId": "ce09f471-ce55-46f6-b611-20e1be82d3fa"
      },
      "source": [
        "# We can incorporate all elements into new variable \n",
        "revised_new_int = array(new_int.typecode , (i for i in new_int))\n",
        "print(revised_new_int)"
      ],
      "execution_count": null,
      "outputs": [
        {
          "output_type": "stream",
          "name": "stdout",
          "text": [
            "array('i', [5, 3, 2, 1, 10])\n"
          ]
        }
      ]
    },
    {
      "cell_type": "code",
      "metadata": {
        "colab": {
          "base_uri": "https://localhost:8080/"
        },
        "id": "iSSbKlyx3RHg",
        "outputId": "154eb7a8-5b76-46af-d0e2-228c41b7574c"
      },
      "source": [
        "# We will create new array with using list comprehension for operation purpose like i*i \n",
        "revised_new_int  = array(new_int.typecode, (i*i for i in new_int))\n",
        "revised_new_int\n",
        "\n"
      ],
      "execution_count": null,
      "outputs": [
        {
          "output_type": "execute_result",
          "data": {
            "text/plain": [
              "array('i', [25, 9, 4, 1, 100])"
            ]
          },
          "metadata": {},
          "execution_count": 32
        }
      ]
    },
    {
      "cell_type": "code",
      "metadata": {
        "id": "ACFxNhPh5JxA",
        "colab": {
          "base_uri": "https://localhost:8080/"
        },
        "outputId": "31ae01b0-d33e-48fd-9671-2cc05a522273"
      },
      "source": [
        "# We can do the same thing in while loop \n",
        "i =0 \n",
        "while  i < len(revised_new_int):\n",
        "  print(revised_new_int)\n",
        "  i =i+1"
      ],
      "execution_count": null,
      "outputs": [
        {
          "output_type": "stream",
          "name": "stdout",
          "text": [
            "array('i', [25, 9, 4, 1, 100])\n",
            "array('i', [25, 9, 4, 1, 100])\n",
            "array('i', [25, 9, 4, 1, 100])\n",
            "array('i', [25, 9, 4, 1, 100])\n",
            "array('i', [25, 9, 4, 1, 100])\n"
          ]
        }
      ]
    },
    {
      "cell_type": "code",
      "metadata": {
        "id": "mcJpEg7hFHNk",
        "colab": {
          "base_uri": "https://localhost:8080/"
        },
        "outputId": "0c15ecea-1109-47e3-f591-3cf345417243"
      },
      "source": [
        "len(revised_new_int)"
      ],
      "execution_count": null,
      "outputs": [
        {
          "output_type": "execute_result",
          "data": {
            "text/plain": [
              "5"
            ]
          },
          "metadata": {},
          "execution_count": 33
        }
      ]
    },
    {
      "cell_type": "code",
      "metadata": {
        "id": "DDmoD1PPN_Ro"
      },
      "source": [
        ""
      ],
      "execution_count": null,
      "outputs": []
    }
  ]
}